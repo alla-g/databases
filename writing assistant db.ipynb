{
 "cells": [
  {
   "cell_type": "code",
   "execution_count": 133,
   "metadata": {},
   "outputs": [
    {
     "name": "stdout",
     "output_type": "stream",
     "text": [
      "Requirement already satisfied: mysql-connector-python in c:\\users\\user\\anaconda3\\lib\\site-packages (8.0.27)"
     ]
    },
    {
     "name": "stderr",
     "output_type": "stream",
     "text": [
      "WARNING: You are using pip version 21.2.1; however, version 21.3.1 is available.\n",
      "You should consider upgrading via the 'c:\\users\\user\\anaconda3\\python.exe -m pip install --upgrade pip' command.\n"
     ]
    },
    {
     "name": "stdout",
     "output_type": "stream",
     "text": [
      "\n",
      "Requirement already satisfied: protobuf>=3.0.0 in c:\\users\\user\\anaconda3\\lib\\site-packages (from mysql-connector-python) (3.18.1)\n"
     ]
    }
   ],
   "source": [
    "!pip install mysql-connector-python"
   ]
  },
  {
   "cell_type": "code",
   "execution_count": 134,
   "metadata": {},
   "outputs": [],
   "source": [
    "import mysql.connector"
   ]
  },
  {
   "cell_type": "code",
   "execution_count": 135,
   "metadata": {},
   "outputs": [],
   "source": [
    "from pprint import pprint"
   ]
  },
  {
   "cell_type": "code",
   "execution_count": 136,
   "metadata": {},
   "outputs": [],
   "source": [
    "con = mysql.connector.connect(host='127.0.0.1', port=3306, database='writer_assistant', user='root', password='dbcourse')"
   ]
  },
  {
   "cell_type": "code",
   "execution_count": 137,
   "metadata": {},
   "outputs": [],
   "source": [
    "cur = con.cursor(dictionary=True, buffered=True)"
   ]
  },
  {
   "cell_type": "markdown",
   "metadata": {},
   "source": [
    "#### SELECT с несколькими (от трех) таблицами в условии выборки:\n",
    "Кто из женщин, работающих в команде Хауса, был как-то связан с тюрьмой?"
   ]
  },
  {
   "cell_type": "code",
   "execution_count": 138,
   "metadata": {},
   "outputs": [
    {
     "name": "stdout",
     "output_type": "stream",
     "text": [
      "[{'full_name': 'Джессика Адамс',\n",
      "  'job': 'член команды диагностики',\n",
      "  'place_in_question': 'Тюрьма',\n",
      "  'relation': 'работа'}]\n"
     ]
    },
    {
     "data": {
      "text/html": [
       "<div>\n",
       "<style scoped>\n",
       "    .dataframe tbody tr th:only-of-type {\n",
       "        vertical-align: middle;\n",
       "    }\n",
       "\n",
       "    .dataframe tbody tr th {\n",
       "        vertical-align: top;\n",
       "    }\n",
       "\n",
       "    .dataframe thead th {\n",
       "        text-align: right;\n",
       "    }\n",
       "</style>\n",
       "<table border=\"1\" class=\"dataframe\">\n",
       "  <thead>\n",
       "    <tr style=\"text-align: right;\">\n",
       "      <th></th>\n",
       "      <th>full_name</th>\n",
       "      <th>job</th>\n",
       "      <th>place_in_question</th>\n",
       "      <th>relation</th>\n",
       "    </tr>\n",
       "  </thead>\n",
       "  <tbody>\n",
       "    <tr>\n",
       "      <th>0</th>\n",
       "      <td>Джессика Адамс</td>\n",
       "      <td>член команды диагностики</td>\n",
       "      <td>Тюрьма</td>\n",
       "      <td>работа</td>\n",
       "    </tr>\n",
       "  </tbody>\n",
       "</table>\n",
       "</div>"
      ],
      "text/plain": [
       "        full_name                       job place_in_question relation\n",
       "0  Джессика Адамс  член команды диагностики            Тюрьма   работа"
      ]
     },
     "execution_count": 138,
     "metadata": {},
     "output_type": "execute_result"
    }
   ],
   "source": [
    "cur.execute(\"\"\"SELECT full_name, occupations.name job, locations.name place_in_question, character2location.relation\n",
    "               FROM characters\n",
    "                 JOIN character2occupation\n",
    "                 ON characters.id_character = character2occupation.char_id\n",
    "                 JOIN occupations\n",
    "                 ON character2occupation.occ_id = id_occupation\n",
    "                 JOIN character2location\n",
    "                 ON characters.id_character = character2location.char_id\n",
    "                 JOIN locations\n",
    "                 ON character2location.loc_id = locations.id_locations\n",
    "\n",
    "               WHERE occupations.name = 'член команды диагностики'\n",
    "               AND characters.gender = 'женщина'\n",
    "               AND locations.name = 'Тюрьма'\"\"\")\n",
    "d = cur.fetchall()\n",
    "pprint(d)\n",
    "pd.DataFrame(d)"
   ]
  },
  {
   "cell_type": "markdown",
   "metadata": {},
   "source": [
    "#### Вложенные SELECT:\n",
    "\n",
    "Посмотрим, для каких персонажей есть записи об их отношениях с кем-то ещё"
   ]
  },
  {
   "cell_type": "code",
   "execution_count": 139,
   "metadata": {},
   "outputs": [
    {
     "name": "stdout",
     "output_type": "stream",
     "text": [
      "[{'name': 'Грегори Хаус'},\n",
      " {'name': 'Лиза Кадди'},\n",
      " {'name': 'Джеймс Уилсон'},\n",
      " {'name': 'Эрик Форман'},\n",
      " {'name': 'Эллисон Кэмерон'},\n",
      " {'name': 'Роберт Чейз'},\n",
      " {'name': 'Реми Хэдли'},\n",
      " {'name': 'Эмбер Волакис'},\n",
      " {'name': 'Джессика Адамс'},\n",
      " {'name': 'Чи Пак'}]\n"
     ]
    }
   ],
   "source": [
    "cur.execute(\"\"\"SELECT full_name name\n",
    "               FROM characters\n",
    "               WHERE id_character IN (\n",
    "                 SELECT char1_id\n",
    "                 FROM character2character\n",
    "               )\"\"\")\n",
    "pprint(cur.fetchall())"
   ]
  },
  {
   "cell_type": "markdown",
   "metadata": {},
   "source": [
    "Посмотрим, для кого мы знаем что-нибудь про жильё"
   ]
  },
  {
   "cell_type": "code",
   "execution_count": 140,
   "metadata": {},
   "outputs": [
    {
     "name": "stdout",
     "output_type": "stream",
     "text": [
      "[{'name': 'Грегори Хаус'}, {'name': 'Джеймс Уилсон'}]\n"
     ]
    }
   ],
   "source": [
    "cur.execute(\"\"\"SELECT full_name name\n",
    "               FROM characters\n",
    "               WHERE id_character IN (\n",
    "                   SELECT char_id FROM character2location\n",
    "                   WHERE relation = 'жильё'\n",
    "               )\"\"\")\n",
    "pprint(cur.fetchall())"
   ]
  },
  {
   "cell_type": "markdown",
   "metadata": {},
   "source": [
    "#### Запросы с JOIN:\n",
    "\n",
    "Продолжая тему жилья, присоединим эту информацию к тем персонажам, для которых эта информация есть"
   ]
  },
  {
   "cell_type": "code",
   "execution_count": 141,
   "metadata": {},
   "outputs": [
    {
     "name": "stdout",
     "output_type": "stream",
     "text": [
      "[{'accomodation': 'Квартира Хауса', 'age': 52, 'full_name': 'Грегори Хаус'},\n",
      " {'accomodation': None, 'age': 43, 'full_name': 'Лиза Кадди'},\n",
      " {'accomodation': 'Квартира Хауса', 'age': 44, 'full_name': 'Джеймс Уилсон'},\n",
      " {'accomodation': None, 'age': 37, 'full_name': 'Эрик Форман'},\n",
      " {'accomodation': None, 'age': 31, 'full_name': 'Эллисон Кэмерон'},\n",
      " {'accomodation': None, 'age': 34, 'full_name': 'Роберт Чейз'},\n",
      " {'accomodation': None, 'age': 27, 'full_name': 'Реми Хэдли'},\n",
      " {'accomodation': None, 'age': 32, 'full_name': 'Эмбер Волакис'},\n",
      " {'accomodation': None, 'age': None, 'full_name': 'Джессика Адамс'},\n",
      " {'accomodation': None, 'age': 25, 'full_name': 'Марта М. Мастерс'},\n",
      " {'accomodation': None, 'age': None, 'full_name': 'Чи Пак'},\n",
      " {'accomodation': None, 'age': 46, 'full_name': 'Крис Тауб'},\n",
      " {'accomodation': None, 'age': 28, 'full_name': 'Лоренс Катнер'}]\n"
     ]
    },
    {
     "data": {
      "text/html": [
       "<div>\n",
       "<style scoped>\n",
       "    .dataframe tbody tr th:only-of-type {\n",
       "        vertical-align: middle;\n",
       "    }\n",
       "\n",
       "    .dataframe tbody tr th {\n",
       "        vertical-align: top;\n",
       "    }\n",
       "\n",
       "    .dataframe thead th {\n",
       "        text-align: right;\n",
       "    }\n",
       "</style>\n",
       "<table border=\"1\" class=\"dataframe\">\n",
       "  <thead>\n",
       "    <tr style=\"text-align: right;\">\n",
       "      <th></th>\n",
       "      <th>full_name</th>\n",
       "      <th>age</th>\n",
       "      <th>accomodation</th>\n",
       "    </tr>\n",
       "  </thead>\n",
       "  <tbody>\n",
       "    <tr>\n",
       "      <th>0</th>\n",
       "      <td>Грегори Хаус</td>\n",
       "      <td>52.0</td>\n",
       "      <td>Квартира Хауса</td>\n",
       "    </tr>\n",
       "    <tr>\n",
       "      <th>1</th>\n",
       "      <td>Лиза Кадди</td>\n",
       "      <td>43.0</td>\n",
       "      <td>None</td>\n",
       "    </tr>\n",
       "    <tr>\n",
       "      <th>2</th>\n",
       "      <td>Джеймс Уилсон</td>\n",
       "      <td>44.0</td>\n",
       "      <td>Квартира Хауса</td>\n",
       "    </tr>\n",
       "    <tr>\n",
       "      <th>3</th>\n",
       "      <td>Эрик Форман</td>\n",
       "      <td>37.0</td>\n",
       "      <td>None</td>\n",
       "    </tr>\n",
       "    <tr>\n",
       "      <th>4</th>\n",
       "      <td>Эллисон Кэмерон</td>\n",
       "      <td>31.0</td>\n",
       "      <td>None</td>\n",
       "    </tr>\n",
       "    <tr>\n",
       "      <th>5</th>\n",
       "      <td>Роберт Чейз</td>\n",
       "      <td>34.0</td>\n",
       "      <td>None</td>\n",
       "    </tr>\n",
       "    <tr>\n",
       "      <th>6</th>\n",
       "      <td>Реми Хэдли</td>\n",
       "      <td>27.0</td>\n",
       "      <td>None</td>\n",
       "    </tr>\n",
       "    <tr>\n",
       "      <th>7</th>\n",
       "      <td>Эмбер Волакис</td>\n",
       "      <td>32.0</td>\n",
       "      <td>None</td>\n",
       "    </tr>\n",
       "    <tr>\n",
       "      <th>8</th>\n",
       "      <td>Джессика Адамс</td>\n",
       "      <td>NaN</td>\n",
       "      <td>None</td>\n",
       "    </tr>\n",
       "    <tr>\n",
       "      <th>9</th>\n",
       "      <td>Марта М. Мастерс</td>\n",
       "      <td>25.0</td>\n",
       "      <td>None</td>\n",
       "    </tr>\n",
       "    <tr>\n",
       "      <th>10</th>\n",
       "      <td>Чи Пак</td>\n",
       "      <td>NaN</td>\n",
       "      <td>None</td>\n",
       "    </tr>\n",
       "    <tr>\n",
       "      <th>11</th>\n",
       "      <td>Крис Тауб</td>\n",
       "      <td>46.0</td>\n",
       "      <td>None</td>\n",
       "    </tr>\n",
       "    <tr>\n",
       "      <th>12</th>\n",
       "      <td>Лоренс Катнер</td>\n",
       "      <td>28.0</td>\n",
       "      <td>None</td>\n",
       "    </tr>\n",
       "  </tbody>\n",
       "</table>\n",
       "</div>"
      ],
      "text/plain": [
       "           full_name   age    accomodation\n",
       "0       Грегори Хаус  52.0  Квартира Хауса\n",
       "1         Лиза Кадди  43.0            None\n",
       "2      Джеймс Уилсон  44.0  Квартира Хауса\n",
       "3        Эрик Форман  37.0            None\n",
       "4    Эллисон Кэмерон  31.0            None\n",
       "5        Роберт Чейз  34.0            None\n",
       "6         Реми Хэдли  27.0            None\n",
       "7      Эмбер Волакис  32.0            None\n",
       "8     Джессика Адамс   NaN            None\n",
       "9   Марта М. Мастерс  25.0            None\n",
       "10            Чи Пак   NaN            None\n",
       "11         Крис Тауб  46.0            None\n",
       "12     Лоренс Катнер  28.0            None"
      ]
     },
     "execution_count": 141,
     "metadata": {},
     "output_type": "execute_result"
    }
   ],
   "source": [
    "cur.execute(\"\"\"SELECT full_name, age, locations.name accomodation\n",
    "               FROM characters\n",
    "                 LEFT JOIN (\n",
    "                     SELECT * FROM character2location\n",
    "                     WHERE character2location.relation = 'жильё'\n",
    "                     ) acc\n",
    "                 ON id_character = acc.char_id\n",
    "                 LEFT JOIN locations\n",
    "                 ON acc.loc_id = id_locations\"\"\")\n",
    "d = cur.fetchall()\n",
    "pprint(d)\n",
    "pd.DataFrame(d)"
   ]
  },
  {
   "cell_type": "markdown",
   "metadata": {},
   "source": [
    "Узнаем, кто из персонажей работал в команде Хауса"
   ]
  },
  {
   "cell_type": "code",
   "execution_count": 142,
   "metadata": {},
   "outputs": [
    {
     "name": "stdout",
     "output_type": "stream",
     "text": [
      "[{'full_name': 'Эрик Форман', 'job': 'член команды диагностики'},\n",
      " {'full_name': 'Эллисон Кэмерон', 'job': 'член команды диагностики'},\n",
      " {'full_name': 'Роберт Чейз', 'job': 'член команды диагностики'},\n",
      " {'full_name': 'Реми Хэдли', 'job': 'член команды диагностики'},\n",
      " {'full_name': 'Джессика Адамс', 'job': 'член команды диагностики'},\n",
      " {'full_name': 'Чи Пак', 'job': 'член команды диагностики'},\n",
      " {'full_name': 'Крис Тауб', 'job': 'член команды диагностики'}]\n"
     ]
    },
    {
     "data": {
      "text/html": [
       "<div>\n",
       "<style scoped>\n",
       "    .dataframe tbody tr th:only-of-type {\n",
       "        vertical-align: middle;\n",
       "    }\n",
       "\n",
       "    .dataframe tbody tr th {\n",
       "        vertical-align: top;\n",
       "    }\n",
       "\n",
       "    .dataframe thead th {\n",
       "        text-align: right;\n",
       "    }\n",
       "</style>\n",
       "<table border=\"1\" class=\"dataframe\">\n",
       "  <thead>\n",
       "    <tr style=\"text-align: right;\">\n",
       "      <th></th>\n",
       "      <th>full_name</th>\n",
       "      <th>job</th>\n",
       "    </tr>\n",
       "  </thead>\n",
       "  <tbody>\n",
       "    <tr>\n",
       "      <th>0</th>\n",
       "      <td>Эрик Форман</td>\n",
       "      <td>член команды диагностики</td>\n",
       "    </tr>\n",
       "    <tr>\n",
       "      <th>1</th>\n",
       "      <td>Эллисон Кэмерон</td>\n",
       "      <td>член команды диагностики</td>\n",
       "    </tr>\n",
       "    <tr>\n",
       "      <th>2</th>\n",
       "      <td>Роберт Чейз</td>\n",
       "      <td>член команды диагностики</td>\n",
       "    </tr>\n",
       "    <tr>\n",
       "      <th>3</th>\n",
       "      <td>Реми Хэдли</td>\n",
       "      <td>член команды диагностики</td>\n",
       "    </tr>\n",
       "    <tr>\n",
       "      <th>4</th>\n",
       "      <td>Джессика Адамс</td>\n",
       "      <td>член команды диагностики</td>\n",
       "    </tr>\n",
       "    <tr>\n",
       "      <th>5</th>\n",
       "      <td>Чи Пак</td>\n",
       "      <td>член команды диагностики</td>\n",
       "    </tr>\n",
       "    <tr>\n",
       "      <th>6</th>\n",
       "      <td>Крис Тауб</td>\n",
       "      <td>член команды диагностики</td>\n",
       "    </tr>\n",
       "  </tbody>\n",
       "</table>\n",
       "</div>"
      ],
      "text/plain": [
       "         full_name                       job\n",
       "0      Эрик Форман  член команды диагностики\n",
       "1  Эллисон Кэмерон  член команды диагностики\n",
       "2      Роберт Чейз  член команды диагностики\n",
       "3       Реми Хэдли  член команды диагностики\n",
       "4   Джессика Адамс  член команды диагностики\n",
       "5           Чи Пак  член команды диагностики\n",
       "6        Крис Тауб  член команды диагностики"
      ]
     },
     "execution_count": 142,
     "metadata": {},
     "output_type": "execute_result"
    }
   ],
   "source": [
    "cur.execute(\"\"\"SELECT full_name, occupations.name job\n",
    "               FROM characters\n",
    "                 JOIN character2occupation\n",
    "                 ON characters.id_character = character2occupation.char_id\n",
    "                 JOIN occupations\n",
    "                 ON character2occupation.occ_id = id_occupation\n",
    "               WHERE occupations.name = 'член команды диагностики'\"\"\")\n",
    "d = cur.fetchall()\n",
    "pprint(d)\n",
    "pd.DataFrame(d)"
   ]
  },
  {
   "cell_type": "markdown",
   "metadata": {},
   "source": [
    "И кто был заведующим чего угодно"
   ]
  },
  {
   "cell_type": "code",
   "execution_count": 143,
   "metadata": {},
   "outputs": [
    {
     "name": "stdout",
     "output_type": "stream",
     "text": [
      "[{'full_name': 'Грегори Хаус', 'job': 'заведующий отделением диагностики'},\n",
      " {'full_name': 'Эрик Форман', 'job': 'заведующий отделением диагностики'},\n",
      " {'full_name': 'Джеймс Уилсон', 'job': 'заведующий отделением онкологии'},\n",
      " {'full_name': 'Лиза Кадди', 'job': 'заведующий больницы'},\n",
      " {'full_name': 'Эрик Форман', 'job': 'заведующий больницы'}]\n"
     ]
    },
    {
     "data": {
      "text/html": [
       "<div>\n",
       "<style scoped>\n",
       "    .dataframe tbody tr th:only-of-type {\n",
       "        vertical-align: middle;\n",
       "    }\n",
       "\n",
       "    .dataframe tbody tr th {\n",
       "        vertical-align: top;\n",
       "    }\n",
       "\n",
       "    .dataframe thead th {\n",
       "        text-align: right;\n",
       "    }\n",
       "</style>\n",
       "<table border=\"1\" class=\"dataframe\">\n",
       "  <thead>\n",
       "    <tr style=\"text-align: right;\">\n",
       "      <th></th>\n",
       "      <th>full_name</th>\n",
       "      <th>job</th>\n",
       "    </tr>\n",
       "  </thead>\n",
       "  <tbody>\n",
       "    <tr>\n",
       "      <th>0</th>\n",
       "      <td>Грегори Хаус</td>\n",
       "      <td>заведующий отделением диагностики</td>\n",
       "    </tr>\n",
       "    <tr>\n",
       "      <th>1</th>\n",
       "      <td>Эрик Форман</td>\n",
       "      <td>заведующий отделением диагностики</td>\n",
       "    </tr>\n",
       "    <tr>\n",
       "      <th>2</th>\n",
       "      <td>Джеймс Уилсон</td>\n",
       "      <td>заведующий отделением онкологии</td>\n",
       "    </tr>\n",
       "    <tr>\n",
       "      <th>3</th>\n",
       "      <td>Лиза Кадди</td>\n",
       "      <td>заведующий больницы</td>\n",
       "    </tr>\n",
       "    <tr>\n",
       "      <th>4</th>\n",
       "      <td>Эрик Форман</td>\n",
       "      <td>заведующий больницы</td>\n",
       "    </tr>\n",
       "  </tbody>\n",
       "</table>\n",
       "</div>"
      ],
      "text/plain": [
       "       full_name                                job\n",
       "0   Грегори Хаус  заведующий отделением диагностики\n",
       "1    Эрик Форман  заведующий отделением диагностики\n",
       "2  Джеймс Уилсон    заведующий отделением онкологии\n",
       "3     Лиза Кадди                заведующий больницы\n",
       "4    Эрик Форман                заведующий больницы"
      ]
     },
     "execution_count": 143,
     "metadata": {},
     "output_type": "execute_result"
    }
   ],
   "source": [
    "cur.execute(\"\"\"SELECT full_name, occupations.name job\n",
    "               FROM characters\n",
    "                 JOIN character2occupation\n",
    "                 ON characters.id_character = character2occupation.char_id\n",
    "                 JOIN occupations\n",
    "                 ON character2occupation.occ_id = id_occupation\n",
    "               WHERE occupations.name LIKE 'заведующий%'\"\"\")\n",
    "d = cur.fetchall()\n",
    "pprint(d)\n",
    "pd.DataFrame(d)"
   ]
  },
  {
   "cell_type": "markdown",
   "metadata": {},
   "source": [
    "Посмотрим, с какими людьми связаны места кроме больницы (с ней и так связаны все, это сериал про больницу)"
   ]
  },
  {
   "cell_type": "code",
   "execution_count": 144,
   "metadata": {},
   "outputs": [
    {
     "name": "stdout",
     "output_type": "stream",
     "text": [
      "[{'full_name': 'Грегори Хаус', 'place': 'Мэйфилд'},\n",
      " {'full_name': 'Грегори Хаус', 'place': 'Тюрьма'},\n",
      " {'full_name': 'Джессика Адамс', 'place': 'Тюрьма'},\n",
      " {'full_name': 'Грегори Хаус', 'place': 'Квартира Хауса'},\n",
      " {'full_name': 'Джеймс Уилсон', 'place': 'Квартира Хауса'}]\n"
     ]
    },
    {
     "data": {
      "text/html": [
       "<div>\n",
       "<style scoped>\n",
       "    .dataframe tbody tr th:only-of-type {\n",
       "        vertical-align: middle;\n",
       "    }\n",
       "\n",
       "    .dataframe tbody tr th {\n",
       "        vertical-align: top;\n",
       "    }\n",
       "\n",
       "    .dataframe thead th {\n",
       "        text-align: right;\n",
       "    }\n",
       "</style>\n",
       "<table border=\"1\" class=\"dataframe\">\n",
       "  <thead>\n",
       "    <tr style=\"text-align: right;\">\n",
       "      <th></th>\n",
       "      <th>place</th>\n",
       "      <th>full_name</th>\n",
       "    </tr>\n",
       "  </thead>\n",
       "  <tbody>\n",
       "    <tr>\n",
       "      <th>0</th>\n",
       "      <td>Мэйфилд</td>\n",
       "      <td>Грегори Хаус</td>\n",
       "    </tr>\n",
       "    <tr>\n",
       "      <th>1</th>\n",
       "      <td>Тюрьма</td>\n",
       "      <td>Грегори Хаус</td>\n",
       "    </tr>\n",
       "    <tr>\n",
       "      <th>2</th>\n",
       "      <td>Тюрьма</td>\n",
       "      <td>Джессика Адамс</td>\n",
       "    </tr>\n",
       "    <tr>\n",
       "      <th>3</th>\n",
       "      <td>Квартира Хауса</td>\n",
       "      <td>Грегори Хаус</td>\n",
       "    </tr>\n",
       "    <tr>\n",
       "      <th>4</th>\n",
       "      <td>Квартира Хауса</td>\n",
       "      <td>Джеймс Уилсон</td>\n",
       "    </tr>\n",
       "  </tbody>\n",
       "</table>\n",
       "</div>"
      ],
      "text/plain": [
       "            place       full_name\n",
       "0         Мэйфилд    Грегори Хаус\n",
       "1          Тюрьма    Грегори Хаус\n",
       "2          Тюрьма  Джессика Адамс\n",
       "3  Квартира Хауса    Грегори Хаус\n",
       "4  Квартира Хауса   Джеймс Уилсон"
      ]
     },
     "execution_count": 144,
     "metadata": {},
     "output_type": "execute_result"
    }
   ],
   "source": [
    "cur.execute(\"\"\"SELECT locations.name place, full_name\n",
    "               FROM locations\n",
    "                 JOIN character2location\n",
    "                 ON id_locations = loc_id\n",
    "                 JOIN characters\n",
    "                 ON char_id = id_character\n",
    "               WHERE locations.name != 'Принстон-Плейнсборо'\"\"\")\n",
    "d = cur.fetchall()\n",
    "pprint(d)\n",
    "pd.DataFrame(d)"
   ]
  },
  {
   "cell_type": "markdown",
   "metadata": {},
   "source": [
    "#### Аггрегация и сортировки:\n",
    "\n",
    "Отсортируем персонажей по количеству поклонников, то есть тех, кто влюблён в них"
   ]
  },
  {
   "cell_type": "code",
   "execution_count": 145,
   "metadata": {},
   "outputs": [
    {
     "name": "stdout",
     "output_type": "stream",
     "text": [
      "[{'full_name': 'Грегори Хаус', 'n_admirers': 2},\n",
      " {'full_name': 'Лиза Кадди', 'n_admirers': 1},\n",
      " {'full_name': 'Эрик Форман', 'n_admirers': 1},\n",
      " {'full_name': 'Реми Хэдли', 'n_admirers': 1},\n",
      " {'full_name': 'Эмбер Волакис', 'n_admirers': 1},\n",
      " {'full_name': 'Джеймс Уилсон', 'n_admirers': 1}]\n"
     ]
    },
    {
     "data": {
      "text/html": [
       "<div>\n",
       "<style scoped>\n",
       "    .dataframe tbody tr th:only-of-type {\n",
       "        vertical-align: middle;\n",
       "    }\n",
       "\n",
       "    .dataframe tbody tr th {\n",
       "        vertical-align: top;\n",
       "    }\n",
       "\n",
       "    .dataframe thead th {\n",
       "        text-align: right;\n",
       "    }\n",
       "</style>\n",
       "<table border=\"1\" class=\"dataframe\">\n",
       "  <thead>\n",
       "    <tr style=\"text-align: right;\">\n",
       "      <th></th>\n",
       "      <th>full_name</th>\n",
       "      <th>n_admirers</th>\n",
       "    </tr>\n",
       "  </thead>\n",
       "  <tbody>\n",
       "    <tr>\n",
       "      <th>0</th>\n",
       "      <td>Грегори Хаус</td>\n",
       "      <td>2</td>\n",
       "    </tr>\n",
       "    <tr>\n",
       "      <th>1</th>\n",
       "      <td>Лиза Кадди</td>\n",
       "      <td>1</td>\n",
       "    </tr>\n",
       "    <tr>\n",
       "      <th>2</th>\n",
       "      <td>Эрик Форман</td>\n",
       "      <td>1</td>\n",
       "    </tr>\n",
       "    <tr>\n",
       "      <th>3</th>\n",
       "      <td>Реми Хэдли</td>\n",
       "      <td>1</td>\n",
       "    </tr>\n",
       "    <tr>\n",
       "      <th>4</th>\n",
       "      <td>Эмбер Волакис</td>\n",
       "      <td>1</td>\n",
       "    </tr>\n",
       "    <tr>\n",
       "      <th>5</th>\n",
       "      <td>Джеймс Уилсон</td>\n",
       "      <td>1</td>\n",
       "    </tr>\n",
       "  </tbody>\n",
       "</table>\n",
       "</div>"
      ],
      "text/plain": [
       "       full_name  n_admirers\n",
       "0   Грегори Хаус           2\n",
       "1     Лиза Кадди           1\n",
       "2    Эрик Форман           1\n",
       "3     Реми Хэдли           1\n",
       "4  Эмбер Волакис           1\n",
       "5  Джеймс Уилсон           1"
      ]
     },
     "execution_count": 145,
     "metadata": {},
     "output_type": "execute_result"
    }
   ],
   "source": [
    "cur.execute(\"\"\"SELECT full_name, COUNT(relation) n_admirers\n",
    "               FROM character2character\n",
    "                 INNER JOIN characters\n",
    "                 ON char2_id = id_character\n",
    "               WHERE relation = 'влюблённость'\n",
    "               GROUP BY char2_id\n",
    "               ORDER BY n_admirers DESC\"\"\")\n",
    "d = cur.fetchall()\n",
    "pprint(d)\n",
    "pd.DataFrame(d)"
   ]
  },
  {
   "cell_type": "markdown",
   "metadata": {},
   "source": [
    "И посмотриим на самые популярные локации"
   ]
  },
  {
   "cell_type": "code",
   "execution_count": 146,
   "metadata": {},
   "outputs": [
    {
     "name": "stdout",
     "output_type": "stream",
     "text": [
      "[{'info': 'Больница находится в Принстоне, Нью-Джерси, США. Работает на '\n",
      "          'благотворительные средства, является филиалом медицинского '\n",
      "          'университета.',\n",
      "  'n_connected': 13,\n",
      "  'name': 'Принстон-Плейнсборо'},\n",
      " {'info': 'Хаус провёл там около года.', 'n_connected': 2, 'name': 'Тюрьма'},\n",
      " {'info': 'Адрес 221b Baker Street, как у Шерлока Холмса',\n",
      "  'n_connected': 2,\n",
      "  'name': 'Квартира Хауса'},\n",
      " {'info': 'Основана в 1876 году.', 'n_connected': 1, 'name': 'Мэйфилд'}]\n"
     ]
    },
    {
     "data": {
      "text/html": [
       "<div>\n",
       "<style scoped>\n",
       "    .dataframe tbody tr th:only-of-type {\n",
       "        vertical-align: middle;\n",
       "    }\n",
       "\n",
       "    .dataframe tbody tr th {\n",
       "        vertical-align: top;\n",
       "    }\n",
       "\n",
       "    .dataframe thead th {\n",
       "        text-align: right;\n",
       "    }\n",
       "</style>\n",
       "<table border=\"1\" class=\"dataframe\">\n",
       "  <thead>\n",
       "    <tr style=\"text-align: right;\">\n",
       "      <th></th>\n",
       "      <th>name</th>\n",
       "      <th>info</th>\n",
       "      <th>n_connected</th>\n",
       "    </tr>\n",
       "  </thead>\n",
       "  <tbody>\n",
       "    <tr>\n",
       "      <th>0</th>\n",
       "      <td>Принстон-Плейнсборо</td>\n",
       "      <td>Больница находится в Принстоне, Нью-Джерси, СШ...</td>\n",
       "      <td>13</td>\n",
       "    </tr>\n",
       "    <tr>\n",
       "      <th>1</th>\n",
       "      <td>Тюрьма</td>\n",
       "      <td>Хаус провёл там около года.</td>\n",
       "      <td>2</td>\n",
       "    </tr>\n",
       "    <tr>\n",
       "      <th>2</th>\n",
       "      <td>Квартира Хауса</td>\n",
       "      <td>Адрес 221b Baker Street, как у Шерлока Холмса</td>\n",
       "      <td>2</td>\n",
       "    </tr>\n",
       "    <tr>\n",
       "      <th>3</th>\n",
       "      <td>Мэйфилд</td>\n",
       "      <td>Основана в 1876 году.</td>\n",
       "      <td>1</td>\n",
       "    </tr>\n",
       "  </tbody>\n",
       "</table>\n",
       "</div>"
      ],
      "text/plain": [
       "                  name                                               info  \\\n",
       "0  Принстон-Плейнсборо  Больница находится в Принстоне, Нью-Джерси, СШ...   \n",
       "1               Тюрьма                        Хаус провёл там около года.   \n",
       "2       Квартира Хауса      Адрес 221b Baker Street, как у Шерлока Холмса   \n",
       "3              Мэйфилд                              Основана в 1876 году.   \n",
       "\n",
       "   n_connected  \n",
       "0           13  \n",
       "1            2  \n",
       "2            2  \n",
       "3            1  "
      ]
     },
     "execution_count": 146,
     "metadata": {},
     "output_type": "execute_result"
    }
   ],
   "source": [
    "cur.execute(\"\"\"SELECT locations.name, locations.info, COUNT(char_id) n_connected\n",
    "               FROM locations\n",
    "                 INNER JOIN character2location\n",
    "                 ON id_locations = loc_id\n",
    "               GROUP BY locations.name\n",
    "               ORDER BY n_connected DESC\"\"\")\n",
    "d = cur.fetchall()\n",
    "pprint(d)\n",
    "pd.DataFrame(d)"
   ]
  },
  {
   "cell_type": "markdown",
   "metadata": {},
   "source": [
    "#### Ввод, модификация, удаление данных\n",
    "\n",
    "* изменить данные о Эмбер, добавив в инфо тот факт, что Хаус никогда не называл её по фамилии\n",
    "* добавить какого-то неканонного персонажа\n",
    "* и удалить его"
   ]
  },
  {
   "cell_type": "code",
   "execution_count": 147,
   "metadata": {},
   "outputs": [
    {
     "data": {
      "text/plain": [
       "[{'full_name': 'Эмбер Волакис',\n",
       "  'backstory': 'Она единственная среди подчинённых Хауса, кого он называл по имени'}]"
      ]
     },
     "execution_count": 147,
     "metadata": {},
     "output_type": "execute_result"
    }
   ],
   "source": [
    "info = 'Она единственная среди подчинённых Хауса, кого он называл по имени'\n",
    "cur.execute(f\"\"\"UPDATE characters SET backstory = '{info}'\n",
    "                WHERE full_name = 'Эмбер Волакис'\"\"\")\n",
    "con.commit()\n",
    "\n",
    "# проверка\n",
    "cur.execute('SELECT full_name, backstory FROM characters WHERE id_character = 8')\n",
    "cur.fetchall()"
   ]
  },
  {
   "cell_type": "code",
   "execution_count": 148,
   "metadata": {},
   "outputs": [
    {
     "name": "stdout",
     "output_type": "stream",
     "text": [
      "[{'age': 99,\n",
      "  'aka': None,\n",
      "  'backstory': None,\n",
      "  'eye_color': None,\n",
      "  'full_name': None,\n",
      "  'gender': None,\n",
      "  'hair_color': None,\n",
      "  'id_character': 22,\n",
      "  'race': None,\n",
      "  'role': 'второстепенный',\n",
      "  'short_name': 'Иван',\n",
      "  'skin_color': None}]\n"
     ]
    }
   ],
   "source": [
    "cur.execute(\"\"\"INSERT INTO characters (short_name, age, role)\n",
    "                VALUES ('Иван', '99', 'второстепенный')\"\"\")\n",
    "con.commit()\n",
    "\n",
    "# проверка\n",
    "cur.execute(\"SELECT * FROM characters ORDER BY id_character DESC LIMIT 1\")\n",
    "pprint(cur.fetchall())"
   ]
  },
  {
   "cell_type": "code",
   "execution_count": 149,
   "metadata": {},
   "outputs": [
    {
     "name": "stdout",
     "output_type": "stream",
     "text": [
      "[{'age': 28,\n",
      "  'aka': None,\n",
      "  'backstory': 'Его родители были застрелены, с 6 лет жил в приёмной семье.',\n",
      "  'eye_color': 'карий',\n",
      "  'full_name': 'Лоренс Катнер',\n",
      "  'gender': 'мужчина',\n",
      "  'hair_color': 'чёрный',\n",
      "  'id_character': 13,\n",
      "  'race': 'человек',\n",
      "  'role': 'главный',\n",
      "  'short_name': 'Катнер',\n",
      "  'skin_color': 'тёмный'}]\n"
     ]
    }
   ],
   "source": [
    "cur.execute(\"DELETE FROM characters WHERE short_name = 'Иван'\")\n",
    "con.commit()\n",
    "\n",
    "# проверка\n",
    "cur.execute(\"SELECT * FROM characters ORDER BY id_character DESC LIMIT 1\")\n",
    "pprint(cur.fetchall())"
   ]
  },
  {
   "cell_type": "code",
   "execution_count": null,
   "metadata": {},
   "outputs": [],
   "source": []
  }
 ],
 "metadata": {
  "kernelspec": {
   "display_name": "Python 3 (ipykernel)",
   "language": "python",
   "name": "python3"
  },
  "language_info": {
   "codemirror_mode": {
    "name": "ipython",
    "version": 3
   },
   "file_extension": ".py",
   "mimetype": "text/x-python",
   "name": "python",
   "nbconvert_exporter": "python",
   "pygments_lexer": "ipython3",
   "version": "3.7.3"
  }
 },
 "nbformat": 4,
 "nbformat_minor": 2
}
