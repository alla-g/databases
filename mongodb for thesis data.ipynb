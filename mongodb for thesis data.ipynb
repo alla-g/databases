{
 "cells": [
  {
   "cell_type": "markdown",
   "metadata": {},
   "source": [
    "## Нереляционные базы данных: проект"
   ]
  },
  {
   "cell_type": "code",
   "execution_count": 1,
   "metadata": {},
   "outputs": [
    {
     "name": "stdout",
     "output_type": "stream",
     "text": [
      "Requirement already satisfied: pymongo[srv] in c:\\users\\user\\anaconda3\\lib\\site-packages (4.0.1)\n",
      "Requirement already satisfied: dnspython<3.0.0,>=1.16.0 in c:\\users\\user\\anaconda3\\lib\\site-packages (from pymongo[srv]) (2.2.0)\n"
     ]
    },
    {
     "name": "stderr",
     "output_type": "stream",
     "text": [
      "WARNING: Ignoring invalid distribution -ffi (c:\\users\\user\\anaconda3\\lib\\site-packages)\n",
      "WARNING: Ignoring invalid distribution -ffi (c:\\users\\user\\anaconda3\\lib\\site-packages)\n",
      "WARNING: Ignoring invalid distribution -ffi (c:\\users\\user\\anaconda3\\lib\\site-packages)\n",
      "WARNING: Ignoring invalid distribution -ffi (c:\\users\\user\\anaconda3\\lib\\site-packages)\n",
      "WARNING: Ignoring invalid distribution -ffi (c:\\users\\user\\anaconda3\\lib\\site-packages)\n",
      "WARNING: Ignoring invalid distribution -ffi (c:\\users\\user\\anaconda3\\lib\\site-packages)\n",
      "WARNING: You are using pip version 21.2.1; however, version 22.0.4 is available.\n",
      "You should consider upgrading via the 'c:\\users\\user\\anaconda3\\python.exe -m pip install --upgrade pip' command.\n"
     ]
    },
    {
     "name": "stdout",
     "output_type": "stream",
     "text": [
      "Requirement already satisfied: pymongo in c:\\users\\user\\anaconda3\\lib\\site-packages (4.0.1)\n"
     ]
    },
    {
     "name": "stderr",
     "output_type": "stream",
     "text": [
      "WARNING: Ignoring invalid distribution -ffi (c:\\users\\user\\anaconda3\\lib\\site-packages)\n",
      "WARNING: Ignoring invalid distribution -ffi (c:\\users\\user\\anaconda3\\lib\\site-packages)\n",
      "WARNING: Ignoring invalid distribution -ffi (c:\\users\\user\\anaconda3\\lib\\site-packages)\n",
      "WARNING: Ignoring invalid distribution -ffi (c:\\users\\user\\anaconda3\\lib\\site-packages)\n",
      "WARNING: Ignoring invalid distribution -ffi (c:\\users\\user\\anaconda3\\lib\\site-packages)\n",
      "WARNING: Ignoring invalid distribution -ffi (c:\\users\\user\\anaconda3\\lib\\site-packages)\n",
      "WARNING: You are using pip version 21.2.1; however, version 22.0.4 is available.\n",
      "You should consider upgrading via the 'c:\\users\\user\\anaconda3\\python.exe -m pip install --upgrade pip' command.\n"
     ]
    }
   ],
   "source": [
    "! pip install pymongo"
   ]
  },
  {
   "cell_type": "code",
   "execution_count": 1,
   "metadata": {},
   "outputs": [],
   "source": [
    "import random\n",
    "import pymongo\n",
    "import requests\n",
    "\n",
    "from pprint import pprint\n",
    "from datetime import datetime"
   ]
  },
  {
   "cell_type": "markdown",
   "metadata": {},
   "source": [
    "Требования к нереляционным БД: \n",
    "\n",
    "**2** - нереляционная БД  \n",
    "**2** - красивая структура БД  \n",
    "**2** - интерфейс позволяет класть, доставать, удалять данные (проводить операции CRUD - Create, Read, Update, Delete)  \n",
    "**2** - два действия помимо CRUD (сортировка, группировка, агрегация, ...)  \n",
    "**2** - MongoDB - работа с текстами или географией"
   ]
  },
  {
   "cell_type": "markdown",
   "metadata": {},
   "source": [
    "### Описание базы данных\n",
    "\n",
    "**Задача:** хранить комментарии из пабликов в ВК, которые я использую для дипломной работы по распознаванию токсичности\n",
    "\n",
    "**Информация**, которую мне надо хранить: \n",
    "* исходные данные:\n",
    "    * текст комментария\n",
    "    * источник (айди и название паблика, айди автора, айди поста, айди комментария)\n",
    "    * поставленные лайки\n",
    "    * время публикации\n",
    "* разметка:\n",
    "    * токсичность (0/1)\n",
    "    * наличие искажений слов (0/1)\n",
    "    * исправленная версия (None/string)\n",
    "    \n",
    "**Алгоритм действий:**\n",
    "1. Напарсить данные из ВК\n",
    "2. Записать в базу\n",
    "3. Провести классификацию, здесь - сымитировать её\n",
    "4. Добавить в базу результаты классификации\n",
    "5. Представить некоторые функции для анализа собранных данных\n",
    "\n",
    "**Структура базы данных:**  \n",
    "Три коллекции: *all_data* для всех данных, *uncorrected_dataset* и *corrected_dataset* для соответствующего варианта тестовых данных  \n",
    "\n",
    "all_data содержит поля *text*, *source*, *likes*, *pub_time*  \n",
    "после имитации разметки добавляются поля *toxicity*, *distortion*, *corrected*\n",
    "\n",
    "uncorrected_dataset и corrected_dataset содержат поля *text* и *toxicity_label* - только нужные для обучения и тестирования моделей"
   ]
  },
  {
   "cell_type": "markdown",
   "metadata": {},
   "source": [
    "### 1. Парсинг данных"
   ]
  },
  {
   "cell_type": "code",
   "execution_count": 2,
   "metadata": {},
   "outputs": [],
   "source": [
    "class Comment:\n",
    "    \"\"\"Класс, содержащий все необходимые поля для одного комментария\"\"\"\n",
    "    def __init__(self):\n",
    "        self.text = ''\n",
    "        self.source = {'group_name': '',\n",
    "                       'group_id': '',\n",
    "                       'post_id': '',\n",
    "                       'author_id': '',\n",
    "                       'comment_id': ''}\n",
    "        self.likes = ''\n",
    "        self.pub_time = ''\n",
    "\n",
    "        self.toxicity = ''\n",
    "        self.distortion = ''\n",
    "        self.correction = ''\n",
    "        \n",
    "    def __repr__(self):\n",
    "        return f\"{self.text} - {self.source['group_name']}\"\n"
   ]
  },
  {
   "cell_type": "code",
   "execution_count": 3,
   "metadata": {},
   "outputs": [],
   "source": [
    "with open('vk_token.txt', encoding='UTF-8') as f:\n",
    "    TOKEN = f.read()"
   ]
  },
  {
   "cell_type": "code",
   "execution_count": 4,
   "metadata": {},
   "outputs": [],
   "source": [
    "def get_post_ids(group_id, n_posts):\n",
    "    \"\"\"Возвращает список айди постов заданного паблика\"\"\"\n",
    "    post_ids = []\n",
    "    for off in range(0, n_posts, 100):\n",
    "        data = requests.get(\n",
    "            'https://api.vk.com/method/wall.get', \n",
    "            params={\n",
    "                \"owner_id\": group_id,\n",
    "                \"count\": 100,\n",
    "                \"v\":\"5.131\",\n",
    "                \"offset\": off,\n",
    "                \"access_token\": TOKEN\n",
    "            }\n",
    "        ).json()\n",
    "        for item in data['response']['items']:\n",
    "            post_ids.append(item['id'])\n",
    "    return post_ids\n",
    "\n",
    "\n",
    "def get_comment_texts(group_id, post_id_list):\n",
    "    \"\"\"По адресу группы и списку постов возвращает для каждого поста\n",
    "       10 комментов и ответов, пока не наберётся 200\"\"\"\n",
    "    comments = []\n",
    "    for post_id in post_id_list:\n",
    "        data = requests.get(\n",
    "            'https://api.vk.com/method/wall.getComments', \n",
    "            params={\n",
    "                \"owner_id\": group_id,\n",
    "                \"post_id\": post_id,\n",
    "                \"preview_length\": 0,\n",
    "                \"thread_items_count\": 10, # max 10\n",
    "                \"count\": 10, # def 10, max 100\n",
    "                \"extended\": 1,\n",
    "                \"fiels\": ['first_name', 'last_name', 'sex'],\n",
    "                \"need_likes\": 1,\n",
    "                \"v\":\"5.131\",\n",
    "                \"access_token\": TOKEN\n",
    "            }\n",
    "        ).json()\n",
    "\n",
    "        for item in data['response']['items']:\n",
    "            if item['text']: # если есть текст, в т.ч. комментарий не удалён\n",
    "                cur_comment = Comment()\n",
    "                cur_comment.text = item['text']\n",
    "                cur_comment.source = {'group_name': groups[group_id],\n",
    "                                      'group_id': group_id,\n",
    "                                      'post_id': post_id,\n",
    "                                      'author_id': item['from_id'],\n",
    "                                      'comment_id': item['id']}\n",
    "                cur_comment.likes = item['likes']['count']\n",
    "                cur_comment.pub_time = item['date']\n",
    "                comments.append(cur_comment)\n",
    "\n",
    "                if item['thread']['count'] > 0:\n",
    "                    for reply_comment in item['thread']['items']:\n",
    "                        rep_comment = Comment()\n",
    "                        rep_comment.text = reply_comment['text']\n",
    "                        rep_comment.source = {'group_name': groups[group_id],\n",
    "                                              'group_id': group_id,\n",
    "                                              'post_id': post_id,\n",
    "                                              'author_id': reply_comment['from_id'],\n",
    "                                              'comment_id': reply_comment['id']}\n",
    "                        rep_comment.likes = reply_comment['likes']['count']\n",
    "                        rep_comment.pub_time = reply_comment['date']\n",
    "                        comments.append(rep_comment)\n",
    "        if len(comments) > 200:\n",
    "            break\n",
    "    return comments[:200]"
   ]
  },
  {
   "cell_type": "code",
   "execution_count": 5,
   "metadata": {},
   "outputs": [],
   "source": [
    "groups = {-76982440: 'meduza',\n",
    "          -29534144: 'lentach',\n",
    "          -17568841: 'dozhd'}"
   ]
  },
  {
   "cell_type": "code",
   "execution_count": 6,
   "metadata": {},
   "outputs": [],
   "source": [
    "def parse_groups(groups):\n",
    "    \"\"\"Обходит все группы в переданном словаре\"\"\"\n",
    "    comments = []\n",
    "    for group_id in groups.keys():\n",
    "        post_ids = get_post_ids(group_id, 100)\n",
    "        post_comments = get_comment_texts(group_id, post_ids)\n",
    "        comments.extend(post_comments)\n",
    "    \n",
    "    return comments"
   ]
  },
  {
   "cell_type": "code",
   "execution_count": 7,
   "metadata": {},
   "outputs": [],
   "source": [
    "comments = parse_groups(groups)"
   ]
  },
  {
   "cell_type": "code",
   "execution_count": 8,
   "metadata": {},
   "outputs": [
    {
     "data": {
      "text/plain": [
       "600"
      ]
     },
     "execution_count": 8,
     "metadata": {},
     "output_type": "execute_result"
    }
   ],
   "source": [
    "len(comments)"
   ]
  },
  {
   "cell_type": "code",
   "execution_count": 9,
   "metadata": {},
   "outputs": [
    {
     "data": {
      "text/plain": [
       "пока ещё открывается. Может быть, от провайдера зависит - meduza"
      ]
     },
     "execution_count": 9,
     "metadata": {},
     "output_type": "execute_result"
    }
   ],
   "source": [
    "comments[0]"
   ]
  },
  {
   "cell_type": "markdown",
   "metadata": {},
   "source": [
    "### 2. Записать в базу\n",
    "#### Операции CRUD - create, read, update, delete\n",
    "* создать базу  \n",
    "* записать собранное в базу  \n",
    "* проверить, что всё записалось корректно"
   ]
  },
  {
   "cell_type": "markdown",
   "metadata": {},
   "source": [
    "**Создание** базы данных и коллекций:"
   ]
  },
  {
   "cell_type": "code",
   "execution_count": 10,
   "metadata": {},
   "outputs": [],
   "source": [
    "with open('mongo_password.txt', encoding='UTF-8') as f:\n",
    "    PASS = f.read()"
   ]
  },
  {
   "cell_type": "code",
   "execution_count": 11,
   "metadata": {},
   "outputs": [],
   "source": [
    "client = pymongo.MongoClient('localhost', 27017)\n",
    "db = client['disguised_toxicity']"
   ]
  },
  {
   "cell_type": "code",
   "execution_count": 12,
   "metadata": {},
   "outputs": [
    {
     "data": {
      "text/plain": [
       "Database(MongoClient(host=['localhost:27017'], document_class=dict, tz_aware=False, connect=True), 'disguised_toxicity')"
      ]
     },
     "execution_count": 12,
     "metadata": {},
     "output_type": "execute_result"
    }
   ],
   "source": [
    "db"
   ]
  },
  {
   "cell_type": "code",
   "execution_count": 13,
   "metadata": {},
   "outputs": [],
   "source": [
    "all_data = db.all_data\n",
    "uncorrected_dataset = db.raw_data\n",
    "corrected_dataset = db.corrected_data"
   ]
  },
  {
   "cell_type": "markdown",
   "metadata": {},
   "source": [
    "**Запись** напаршенного в коллекцию all_data:"
   ]
  },
  {
   "cell_type": "code",
   "execution_count": 14,
   "metadata": {
    "scrolled": true
   },
   "outputs": [
    {
     "data": {
      "text/plain": [
       "<pymongo.results.DeleteResult at 0x23f8bfa06c8>"
      ]
     },
     "execution_count": 14,
     "metadata": {},
     "output_type": "execute_result"
    }
   ],
   "source": [
    "# удалить всё от предыдущих прогонов\n",
    "all_data.delete_many({})\n",
    "uncorrected_dataset.delete_many({})\n",
    "corrected_dataset.delete_many({})"
   ]
  },
  {
   "cell_type": "code",
   "execution_count": 15,
   "metadata": {},
   "outputs": [
    {
     "data": {
      "text/plain": [
       "0"
      ]
     },
     "execution_count": 15,
     "metadata": {},
     "output_type": "execute_result"
    }
   ],
   "source": [
    "all_data.count_documents({})"
   ]
  },
  {
   "cell_type": "code",
   "execution_count": 16,
   "metadata": {},
   "outputs": [],
   "source": [
    "def add_parsed_data(data_collection):\n",
    "    \"\"\"Вставляет в базу нужные атрибуты класса комментария\"\"\"\n",
    "    parsed = data_collection.insert_many([{'text': comment.text,\n",
    "                                           'source': comment.source,\n",
    "                                           'likes': comment.likes,\n",
    "                                           'pub_time': datetime.fromtimestamp(comment.pub_time)}\n",
    "                                           for comment in comments])\n",
    "    parsed_ids = parsed.inserted_ids\n",
    "    return parsed_ids"
   ]
  },
  {
   "cell_type": "code",
   "execution_count": 17,
   "metadata": {},
   "outputs": [],
   "source": [
    "parsed_ids = add_parsed_data(all_data)"
   ]
  },
  {
   "cell_type": "markdown",
   "metadata": {},
   "source": [
    "Проверить, что все записались"
   ]
  },
  {
   "cell_type": "code",
   "execution_count": 18,
   "metadata": {},
   "outputs": [
    {
     "data": {
      "text/plain": [
       "600"
      ]
     },
     "execution_count": 18,
     "metadata": {},
     "output_type": "execute_result"
    }
   ],
   "source": [
    "all_data.count_documents({})"
   ]
  },
  {
   "cell_type": "markdown",
   "metadata": {},
   "source": [
    "### 3. Сымитировать классификацию\n",
    "* Проапдетить разметку"
   ]
  },
  {
   "cell_type": "markdown",
   "metadata": {},
   "source": [
    "Функция производит **чтение** текстов из базы, обеспечивает их разметку и добавление исправленной версии /пока просто префикс CORRECTED_/"
   ]
  },
  {
   "cell_type": "code",
   "execution_count": 19,
   "metadata": {},
   "outputs": [],
   "source": [
    "def labelling(collection):\n",
    "    \"\"\"Функция для проведения ручной разметки прям в тетрадке\"\"\"\n",
    "    for item in collection.find():\n",
    "        print(item['text'])\n",
    "        toxicity_label = input('Токсичность: ')\n",
    "        distortion_label = input('Искажение: ')\n",
    "        if distortion_label:\n",
    "            corrected_text = input('Исправленный текст')\n",
    "        else:\n",
    "            corrected_text = item['text']\n",
    "            \n",
    "        collection.find_one_and_update({'_id': item['_id']},\n",
    "                                       {'$set': {'toxicity': toxicity_label,\n",
    "                                                 'distortion': distortion_label,\n",
    "                                                 'corrected': corrected_text}})"
   ]
  },
  {
   "cell_type": "code",
   "execution_count": 20,
   "metadata": {},
   "outputs": [
    {
     "name": "stdout",
     "output_type": "stream",
     "text": [
      "пока ещё открывается. Может быть, от провайдера зависит\n",
      "Токсичность: 0\n",
      "Искажение: 0\n",
      "Исправленный текст\n",
      "[id412055656|Вадим], хреново как-то они блокирнули\n"
     ]
    },
    {
     "ename": "KeyboardInterrupt",
     "evalue": "Interrupted by user",
     "output_type": "error",
     "traceback": [
      "\u001b[1;31m---------------------------------------------------------------------------\u001b[0m",
      "\u001b[1;31mKeyboardInterrupt\u001b[0m                         Traceback (most recent call last)",
      "\u001b[1;32m~\\AppData\\Local\\Temp/ipykernel_14384/2963636211.py\u001b[0m in \u001b[0;36m<module>\u001b[1;34m\u001b[0m\n\u001b[1;32m----> 1\u001b[1;33m \u001b[0mlabelling\u001b[0m\u001b[1;33m(\u001b[0m\u001b[0mall_data\u001b[0m\u001b[1;33m)\u001b[0m\u001b[1;33m\u001b[0m\u001b[1;33m\u001b[0m\u001b[0m\n\u001b[0m",
      "\u001b[1;32m~\\AppData\\Local\\Temp/ipykernel_14384/3351508919.py\u001b[0m in \u001b[0;36mlabelling\u001b[1;34m(collection)\u001b[0m\n\u001b[0;32m      3\u001b[0m     \u001b[1;32mfor\u001b[0m \u001b[0mitem\u001b[0m \u001b[1;32min\u001b[0m \u001b[0mcollection\u001b[0m\u001b[1;33m.\u001b[0m\u001b[0mfind\u001b[0m\u001b[1;33m(\u001b[0m\u001b[1;33m)\u001b[0m\u001b[1;33m:\u001b[0m\u001b[1;33m\u001b[0m\u001b[1;33m\u001b[0m\u001b[0m\n\u001b[0;32m      4\u001b[0m         \u001b[0mprint\u001b[0m\u001b[1;33m(\u001b[0m\u001b[0mitem\u001b[0m\u001b[1;33m[\u001b[0m\u001b[1;34m'text'\u001b[0m\u001b[1;33m]\u001b[0m\u001b[1;33m)\u001b[0m\u001b[1;33m\u001b[0m\u001b[1;33m\u001b[0m\u001b[0m\n\u001b[1;32m----> 5\u001b[1;33m         \u001b[0mtoxicity_label\u001b[0m \u001b[1;33m=\u001b[0m \u001b[0minput\u001b[0m\u001b[1;33m(\u001b[0m\u001b[1;34m'Токсичность: '\u001b[0m\u001b[1;33m)\u001b[0m\u001b[1;33m\u001b[0m\u001b[1;33m\u001b[0m\u001b[0m\n\u001b[0m\u001b[0;32m      6\u001b[0m         \u001b[0mdistortion_label\u001b[0m \u001b[1;33m=\u001b[0m \u001b[0minput\u001b[0m\u001b[1;33m(\u001b[0m\u001b[1;34m'Искажение: '\u001b[0m\u001b[1;33m)\u001b[0m\u001b[1;33m\u001b[0m\u001b[1;33m\u001b[0m\u001b[0m\n\u001b[0;32m      7\u001b[0m         \u001b[1;32mif\u001b[0m \u001b[0mdistortion_label\u001b[0m\u001b[1;33m:\u001b[0m\u001b[1;33m\u001b[0m\u001b[1;33m\u001b[0m\u001b[0m\n",
      "\u001b[1;32m~\\Anaconda3\\lib\\site-packages\\ipykernel\\kernelbase.py\u001b[0m in \u001b[0;36mraw_input\u001b[1;34m(self, prompt)\u001b[0m\n\u001b[0;32m   1008\u001b[0m             \u001b[0mself\u001b[0m\u001b[1;33m.\u001b[0m\u001b[0m_parent_ident\u001b[0m\u001b[1;33m[\u001b[0m\u001b[1;34m\"shell\"\u001b[0m\u001b[1;33m]\u001b[0m\u001b[1;33m,\u001b[0m\u001b[1;33m\u001b[0m\u001b[1;33m\u001b[0m\u001b[0m\n\u001b[0;32m   1009\u001b[0m             \u001b[0mself\u001b[0m\u001b[1;33m.\u001b[0m\u001b[0mget_parent\u001b[0m\u001b[1;33m(\u001b[0m\u001b[1;34m\"shell\"\u001b[0m\u001b[1;33m)\u001b[0m\u001b[1;33m,\u001b[0m\u001b[1;33m\u001b[0m\u001b[1;33m\u001b[0m\u001b[0m\n\u001b[1;32m-> 1010\u001b[1;33m             \u001b[0mpassword\u001b[0m\u001b[1;33m=\u001b[0m\u001b[1;32mFalse\u001b[0m\u001b[1;33m,\u001b[0m\u001b[1;33m\u001b[0m\u001b[1;33m\u001b[0m\u001b[0m\n\u001b[0m\u001b[0;32m   1011\u001b[0m         )\n\u001b[0;32m   1012\u001b[0m \u001b[1;33m\u001b[0m\u001b[0m\n",
      "\u001b[1;32m~\\Anaconda3\\lib\\site-packages\\ipykernel\\kernelbase.py\u001b[0m in \u001b[0;36m_input_request\u001b[1;34m(self, prompt, ident, parent, password)\u001b[0m\n\u001b[0;32m   1049\u001b[0m             \u001b[1;32mexcept\u001b[0m \u001b[0mKeyboardInterrupt\u001b[0m\u001b[1;33m:\u001b[0m\u001b[1;33m\u001b[0m\u001b[1;33m\u001b[0m\u001b[0m\n\u001b[0;32m   1050\u001b[0m                 \u001b[1;31m# re-raise KeyboardInterrupt, to truncate traceback\u001b[0m\u001b[1;33m\u001b[0m\u001b[1;33m\u001b[0m\u001b[1;33m\u001b[0m\u001b[0m\n\u001b[1;32m-> 1051\u001b[1;33m                 \u001b[1;32mraise\u001b[0m \u001b[0mKeyboardInterrupt\u001b[0m\u001b[1;33m(\u001b[0m\u001b[1;34m\"Interrupted by user\"\u001b[0m\u001b[1;33m)\u001b[0m \u001b[1;32mfrom\u001b[0m \u001b[1;32mNone\u001b[0m\u001b[1;33m\u001b[0m\u001b[1;33m\u001b[0m\u001b[0m\n\u001b[0m\u001b[0;32m   1052\u001b[0m             \u001b[1;32mexcept\u001b[0m \u001b[0mException\u001b[0m\u001b[1;33m:\u001b[0m\u001b[1;33m\u001b[0m\u001b[1;33m\u001b[0m\u001b[0m\n\u001b[0;32m   1053\u001b[0m                 \u001b[0mself\u001b[0m\u001b[1;33m.\u001b[0m\u001b[0mlog\u001b[0m\u001b[1;33m.\u001b[0m\u001b[0mwarning\u001b[0m\u001b[1;33m(\u001b[0m\u001b[1;34m\"Invalid Message:\"\u001b[0m\u001b[1;33m,\u001b[0m \u001b[0mexc_info\u001b[0m\u001b[1;33m=\u001b[0m\u001b[1;32mTrue\u001b[0m\u001b[1;33m)\u001b[0m\u001b[1;33m\u001b[0m\u001b[1;33m\u001b[0m\u001b[0m\n",
      "\u001b[1;31mKeyboardInterrupt\u001b[0m: Interrupted by user"
     ]
    }
   ],
   "source": [
    "labelling(all_data)"
   ]
  },
  {
   "cell_type": "markdown",
   "metadata": {},
   "source": [
    "### 4. Добавить в базу результаты классификации\n",
    "Такая же функция, но разметка сымитирована рандомом"
   ]
  },
  {
   "cell_type": "code",
   "execution_count": 21,
   "metadata": {},
   "outputs": [],
   "source": [
    "def labelling_imitation(collection):\n",
    "    for item in collection.find():\n",
    "        toxicity_label = random.choices([0, 1], [0.78, 0.22], k=1)[0]\n",
    "        distortion_label = random.choices([0, 1], [0.95, 0.05], k=1)[0]\n",
    "        if distortion_label:\n",
    "            corrected_text = 'CORRECTION_'+item['text']\n",
    "        else:\n",
    "            corrected_text = item['text']\n",
    "            \n",
    "        collection.find_one_and_update({'_id': item['_id']},\n",
    "                                       {'$set': {'toxicity': toxicity_label,\n",
    "                                                 'distortion': distortion_label,\n",
    "                                                 'corrected': corrected_text}})"
   ]
  },
  {
   "cell_type": "markdown",
   "metadata": {},
   "source": [
    "**Апдейт** информации в базе по результатам работы функции:"
   ]
  },
  {
   "cell_type": "code",
   "execution_count": 22,
   "metadata": {},
   "outputs": [],
   "source": [
    "labelling_imitation(all_data)"
   ]
  },
  {
   "cell_type": "markdown",
   "metadata": {},
   "source": [
    "Посмотреть, как сейчас выглядят данные:"
   ]
  },
  {
   "cell_type": "code",
   "execution_count": 23,
   "metadata": {},
   "outputs": [
    {
     "name": "stdout",
     "output_type": "stream",
     "text": [
      "{'_id': ObjectId('624178fb3ecfd0488bd2b7d3'),\n",
      " 'corrected': 'пока ещё открывается. Может быть, от провайдера зависит',\n",
      " 'distortion': 0,\n",
      " 'likes': 5,\n",
      " 'pub_time': datetime.datetime(2022, 3, 4, 17, 26, 11),\n",
      " 'source': {'author_id': 80034454,\n",
      "            'comment_id': 5768876,\n",
      "            'group_id': -76982440,\n",
      "            'group_name': 'meduza',\n",
      "            'post_id': 5768869},\n",
      " 'text': 'пока ещё открывается. Может быть, от провайдера зависит',\n",
      " 'toxicity': 0}\n"
     ]
    }
   ],
   "source": [
    "pprint(all_data.find({})[0])"
   ]
  },
  {
   "cell_type": "markdown",
   "metadata": {},
   "source": [
    "### 5. Представить некоторые функции для анализа собранных данных\n",
    "#### Работа с текстом + удаление\n",
    "После ручной разметки я поняла, что фильтра по [ ] на парсинге было недостаточно, надо **найти** и **удалить** комментарии, где нет ничего, кроме ссылки на топикстартера"
   ]
  },
  {
   "cell_type": "code",
   "execution_count": 24,
   "metadata": {},
   "outputs": [],
   "source": [
    "def delete_unnecessary(collection):\n",
    "    pattern = '\\[.*\\],$'\n",
    "    query = {'text': {'$regex': pattern}}\n",
    "    deleted = collection.delete_many(query)\n",
    "    \n",
    "    return f'Удалено записей: {deleted.deleted_count}'"
   ]
  },
  {
   "cell_type": "code",
   "execution_count": 25,
   "metadata": {},
   "outputs": [
    {
     "data": {
      "text/plain": [
       "'Удалено записей: 21'"
      ]
     },
     "execution_count": 25,
     "metadata": {},
     "output_type": "execute_result"
    }
   ],
   "source": [
    "delete_unnecessary(all_data)"
   ]
  },
  {
   "cell_type": "markdown",
   "metadata": {},
   "source": [
    "### Создание подкорпусов\n",
    "**Апдейт** коллекций *uncorrected_dataset* и *corrected_dataset*, в них из общей коллекции собираются только данные, нужные для тестирования модели"
   ]
  },
  {
   "cell_type": "code",
   "execution_count": 27,
   "metadata": {},
   "outputs": [],
   "source": [
    "def create_corpora(sourse_col, uncorrected_col, corrected_col):\n",
    "    uncorrected_ids = uncorrected_col.insert_many([{'text': item['text'],\n",
    "                                                    'toxicity_label': item['toxicity']}\n",
    "                                                   for item in sourse_col.find({'distortion': 1})])    \n",
    "    corrected_ids = corrected_col.insert_many([{'text': item['corrected'],\n",
    "                                                'toxicity_label': item['toxicity']}\n",
    "                                               for item in sourse_col.find({'distortion': 1})])\n",
    "    \n",
    "    return uncorrected_ids, corrected_ids"
   ]
  },
  {
   "cell_type": "code",
   "execution_count": 28,
   "metadata": {},
   "outputs": [],
   "source": [
    "uncorrected_ids, corrected_ids = create_corpora(all_data, uncorrected_dataset, corrected_dataset)"
   ]
  },
  {
   "cell_type": "code",
   "execution_count": 29,
   "metadata": {
    "scrolled": true
   },
   "outputs": [
    {
     "name": "stdout",
     "output_type": "stream",
     "text": [
      "если ты в Украине - скоро у вас будет вакуум. Как захватят до конца 0\n",
      "CORRECTION_если ты в Украине - скоро у вас будет вакуум. Как захватят до конца 0 \n",
      "\n",
      "[id2065649|Антон], здесь не почтовая служба Кремля... вы , наверное, перепуталии в спешке...\n",
      "Кстати, за оскорбление президента рф вас могут привлечь...  например  , отправят на споп. 1\n",
      "CORRECTION_[id2065649|Антон], здесь не почтовая служба Кремля... вы , наверное, перепуталии в спешке...\n",
      "Кстати, за оскорбление президента рф вас могут привлечь...  например  , отправят на споп. 1 \n",
      "\n",
      "Господи, ну и дегенерат, на Белоруссию глянь. И да, если английская маня думает, что Путин не будет стрелять в людей, то он очень ошибается.\n",
      "\n",
      "Московская полиция может справиться с 30 тысячами людей на улицах города; может быть, с сотней тысяч. Если выйдет больше 300 тысяч, она будет ошеломлена. Придется использовать армию, но будет ли эта армия сражаться за Путина, когда дойдет до дела? 0\n",
      "CORRECTION_Господи, ну и дегенерат, на Белоруссию глянь. И да, если английская маня думает, что Путин не будет стрелять в людей, то он очень ошибается.\n",
      "\n",
      "Московская полиция может справиться с 30 тысячами людей на улицах города; может быть, с сотней тысяч. Если выйдет больше 300 тысяч, она будет ошеломлена. Придется использовать армию, но будет ли эта армия сражаться за Путина, когда дойдет до дела? 0 \n",
      "\n",
      "Одна страна - одна партия - одно мнение :)\n",
      "Доносы уже пару лет как в моде , разговоры про возвращение казни тоже проскальзывают. Новый тренд - кило сахара в одни руки , не за горами продовольственные талоны.\n",
      "Возвращаемся к корням , товарищи!🤣🤣 0\n",
      "CORRECTION_Одна страна - одна партия - одно мнение :)\n",
      "Доносы уже пару лет как в моде , разговоры про возвращение казни тоже проскальзывают. Новый тренд - кило сахара в одни руки , не за горами продовольственные талоны.\n",
      "Возвращаемся к корням , товарищи!🤣🤣 0 \n",
      "\n",
      "Так и с Украиной будет. минобороны рф скажет, что разгромно победило и достигло всех целей, среди которых: возвращение Украине Крыма, Донбасса и Кубани, а так же демилитаризация Московской Республики. 0\n",
      "CORRECTION_Так и с Украиной будет. минобороны рф скажет, что разгромно победило и достигло всех целей, среди которых: возвращение Украине Крыма, Донбасса и Кубани, а так же демилитаризация Московской Республики. 0 \n",
      "\n",
      "Я ИМЕЮ ВВИДУ ЗЕЛЮ ... 1\n",
      "CORRECTION_Я ИМЕЮ ВВИДУ ЗЕЛЮ ... 1 \n",
      "\n",
      "[id165971063|Евгений], я сомневаются что там речь о сотнях тысяч, тех кто на ютюбе хорошо зарабатывал. На рутюб пойдут. Про протесты тоже смешно) 0\n",
      "CORRECTION_[id165971063|Евгений], я сомневаются что там речь о сотнях тысяч, тех кто на ютюбе хорошо зарабатывал. На рутюб пойдут. Про протесты тоже смешно) 0 \n",
      "\n",
      "[id382066437|Ренат], примерно так же как красный крест в первую чеченскую помимо врачей был наводнён всеми разведками мира. агентов прям в лицо знали \"свои\" люди из спецслужб России. Но это настолько неподъёмная по смыслу информация для метсной аудитории, что я даже боюсь за их ментальное здоровье... 0\n",
      "CORRECTION_[id382066437|Ренат], примерно так же как красный крест в первую чеченскую помимо врачей был наводнён всеми разведками мира. агентов прям в лицо знали \"свои\" люди из спецслужб России. Но это настолько неподъёмная по смыслу информация для метсной аудитории, что я даже боюсь за их ментальное здоровье... 0 \n",
      "\n",
      "[id170618630|Макс], да правая шваль рассказывала и что трамп предыдущие выборы выиграет. А потом что он удержит власть силой. Удачи и дальше верить в сказки скоморох. 0\n",
      "CORRECTION_[id170618630|Макс], да правая шваль рассказывала и что трамп предыдущие выборы выиграет. А потом что он удержит власть силой. Удачи и дальше верить в сказки скоморох. 0 \n",
      "\n",
      "Помню в 2015 году во всю крутили инфу о танках и бмп на платформе Армата.Кто знает как много танков и бмп с тех пор поступило в ВС? 0\n",
      "CORRECTION_Помню в 2015 году во всю крутили инфу о танках и бмп на платформе Армата.Кто знает как много танков и бмп с тех пор поступило в ВС? 0 \n",
      "\n",
      "[id25687565|Никита], добью тебя инфой, что Абрамович — бывший губернатор Чукотки 0\n",
      "CORRECTION_[id25687565|Никита], добью тебя инфой, что Абрамович — бывший губернатор Чукотки 0 \n",
      "\n",
      "Фух, всего лишь новости о смертельном вирусе, можно успокоиться, почитать, расслабиться 0\n",
      "CORRECTION_Фух, всего лишь новости о смертельном вирусе, можно успокоиться, почитать, расслабиться 0 \n",
      "\n",
      "[id236693527|Нуржан], не вечно 0\n",
      "CORRECTION_[id236693527|Нуржан], не вечно 0 \n",
      "\n",
      "[id675638945|Felix], иди нах@й фашик! 🖕🏻🤡https://gosvon.net/?usr=675638945 https://gosvon.net/photo.php?id=675638945 1\n",
      "CORRECTION_[id675638945|Felix], иди нах@й фашик! 🖕🏻🤡https://gosvon.net/?usr=675638945 https://gosvon.net/photo.php?id=675638945 1 \n",
      "\n",
      "[id985594|Юра], причём тут BLM? 0\n",
      "CORRECTION_[id985594|Юра], причём тут BLM? 0 \n",
      "\n",
      "[id79879870|Артем], конечно, постанова. И удар постановочный 0\n",
      "CORRECTION_[id79879870|Артем], конечно, постанова. И удар постановочный 0 \n",
      "\n",
      "[id79879870|Артем], его восемь лямов человек смотрело до леща чел 0\n",
      "CORRECTION_[id79879870|Артем], его восемь лямов человек смотрело до леща чел 0 \n",
      "\n",
      "[id256116|Igor], смотрел, Смит его потом еще минуту матом обкладывал. Не видел, чтобы он смеялся. 0\n",
      "CORRECTION_[id256116|Igor], смотрел, Смит его потом еще минуту матом обкладывал. Не видел, чтобы он смеялся. 0 \n",
      "\n",
      "[id168720988|Ivan], хранители, 300 спартанцев, рассвет мертвецов для тебя шутка какая-то? 0\n",
      "CORRECTION_[id168720988|Ivan], хранители, 300 спартанцев, рассвет мертвецов для тебя шутка какая-то? 0 \n",
      "\n",
      "Отличный фильм, просто сейчас люди такие, им лучше минутные ролики из тик тока смотреть, что то большие объемом не вывозят 0\n",
      "CORRECTION_Отличный фильм, просто сейчас люди такие, им лучше минутные ролики из тик тока смотреть, что то большие объемом не вывозят 0 \n",
      "\n",
      "«Применяется высокоточное оружие для уничтожения исключительно военной инфраструктуры. Утверждения о якобы ведущихся ракетных обстрелах и бомбардировках Киева и других украинских городов – не соответствуют действительности и являются элементами антироссийской дезинформационной кампании», - говорится в сообщении Кремля. Говорить и писать такую циничную ложь, это уму непостижимо, Гитлер, со своей сворой, просто отдыхает! Весь мир каждый день облетают фотографии разрушенных зданий городов и сёл Украины, а эти моральные уроды продолжают делать рожу валенком и нагло брехать? Они верят в то, что для российского лохтората закрыты все щели для поступления в страну правдивой информации, кроме соловьёва и скабздеевой в стране больше нет никакой информации! 0\n",
      "CORRECTION_«Применяется высокоточное оружие для уничтожения исключительно военной инфраструктуры. Утверждения о якобы ведущихся ракетных обстрелах и бомбардировках Киева и других украинских городов – не соответствуют действительности и являются элементами антироссийской дезинформационной кампании», - говорится в сообщении Кремля. Говорить и писать такую циничную ложь, это уму непостижимо, Гитлер, со своей сворой, просто отдыхает! Весь мир каждый день облетают фотографии разрушенных зданий городов и сёл Украины, а эти моральные уроды продолжают делать рожу валенком и нагло брехать? Они верят в то, что для российского лохтората закрыты все щели для поступления в страну правдивой информации, кроме соловьёва и скабздеевой в стране больше нет никакой информации! 0 \n",
      "\n",
      "[id665641876|Ян], за неимением оного можешь подержаться за розетку!) 0\n",
      "CORRECTION_[id665641876|Ян], за неимением оного можешь подержаться за розетку!) 0 \n",
      "\n",
      "[id315058699|Игорь], а ми 8 років просили вас повернути крим до дому. 1\n",
      "CORRECTION_[id315058699|Игорь], а ми 8 років просили вас повернути крим до дому. 1 \n",
      "\n",
      "[id645959071|Sam], клоун тут ты, раз переходишь на личности и оскорбления) Возьму попкорн, продолжай) 0\n",
      "CORRECTION_[id645959071|Sam], клоун тут ты, раз переходишь на личности и оскорбления) Возьму попкорн, продолжай) 0 \n",
      "\n",
      "[id374991475|Ехидный], так же и в РФ хотят сделать, запретить призывы к митингам и ввести уголовку. Железный занавес всё ближе и ближе 0\n",
      "CORRECTION_[id374991475|Ехидный], так же и в РФ хотят сделать, запретить призывы к митингам и ввести уголовку. Железный занавес всё ближе и ближе 0 \n",
      "\n",
      "[id7882860|Сергей], им на Мальдивы запретили ездить или на Бали? 0\n",
      "CORRECTION_[id7882860|Сергей], им на Мальдивы запретили ездить или на Бали? 0 \n",
      "\n"
     ]
    }
   ],
   "source": [
    "for uncorr, corr in zip(uncorrected_dataset.find({}), corrected_dataset.find({})):\n",
    "    print(uncorr['text'], uncorr['toxicity_label'])\n",
    "    print(corr['text'], corr['toxicity_label'], '\\n')"
   ]
  },
  {
   "cell_type": "markdown",
   "metadata": {},
   "source": [
    "#### Помимо CRUD (сортировка, группировка, агрегация и тд)\n",
    "Подсчитать все токсичные комментарии, все искажённые и пересечения токсичных и искажённых:"
   ]
  },
  {
   "cell_type": "code",
   "execution_count": 30,
   "metadata": {},
   "outputs": [],
   "source": [
    "def count_toxic(collection):\n",
    "    toxic_count = collection.aggregate([{'$group': {'_id': '$toxicity',\n",
    "                                                    'count': {'$sum': 1}}},\n",
    "                                        {'$project': {'_id': 0, 'is_toxic': '$_id',\n",
    "                                                      'count': 1, 'sum': 1}}])\n",
    "    return toxic_count\n",
    "\n",
    "def count_distortion(collection):\n",
    "    distortion_count = collection.aggregate([{'$group': {'_id': '$distortion',\n",
    "                                                         'count': {'$sum': 1}}},\n",
    "                                             {'$project': {'_id': 0, 'is_distorted': '$_id',\n",
    "                                                           'count': 1, 'sum': 1}}]) \n",
    "    return distortion_count\n",
    "    \n",
    "def count_intersection(collection):\n",
    "    intersection_count = all_data.aggregate([{'$match': {'toxicity': {'$eq': 1}, 'distortion': {'$eq': 1}}},\n",
    "                                             {'$count': 'toxic + distorted count'}])\n",
    "    return intersection_count"
   ]
  },
  {
   "cell_type": "code",
   "execution_count": 31,
   "metadata": {},
   "outputs": [
    {
     "name": "stdout",
     "output_type": "stream",
     "text": [
      "Подсчёт токсичных:\n",
      "{'count': 460, 'is_toxic': 0}\n",
      "{'count': 119, 'is_toxic': 1}\n",
      "\n",
      "Подсчёт искажённых:\n",
      "{'count': 553, 'is_distorted': 0}\n",
      "{'count': 26, 'is_distorted': 1}\n",
      "\n",
      "Пересечение токсичных и искажённых:\n",
      "{'toxic + distorted count': 4}\n"
     ]
    }
   ],
   "source": [
    "print('Подсчёт токсичных:')\n",
    "for tc in count_toxic(all_data):\n",
    "    print(tc)\n",
    "print('\\nПодсчёт искажённых:')\n",
    "for dc in count_distortion(all_data):\n",
    "    print(dc)\n",
    "print('\\nПересечение токсичных и искажённых:')\n",
    "for ic in count_intersection(all_data):\n",
    "    print(ic)"
   ]
  },
  {
   "cell_type": "markdown",
   "metadata": {},
   "source": [
    "Подсчитать среднее количество лайков комментариях из разных групп:"
   ]
  },
  {
   "cell_type": "code",
   "execution_count": 32,
   "metadata": {},
   "outputs": [],
   "source": [
    "def count_mean_likes(collection):\n",
    "    mean_likes = collection.aggregate([{'$group': {'_id': '$source.group_name',\n",
    "                                                   'mean_likes': {'$avg': '$likes'}}},\n",
    "                                       {'$project': {'_id': 0, 'group': '$_id',\n",
    "                                                     'mean_likes': 1}}])\n",
    "    return mean_likes"
   ]
  },
  {
   "cell_type": "code",
   "execution_count": 33,
   "metadata": {},
   "outputs": [
    {
     "name": "stdout",
     "output_type": "stream",
     "text": [
      "{'mean_likes': 5.3979591836734695, 'group': 'meduza'}\n",
      "{'mean_likes': 21.896907216494846, 'group': 'lentach'}\n",
      "{'mean_likes': 6.412698412698413, 'group': 'dozhd'}\n"
     ]
    }
   ],
   "source": [
    "for ml in count_mean_likes(all_data):\n",
    "    print(ml)"
   ]
  },
  {
   "cell_type": "markdown",
   "metadata": {},
   "source": [
    "Подсчитать среднюю токсичность у разных комментаторов - учитывать только тех, кто написал хотя бы 5 комментариев в любой из групп, вывести топ-6 самых токсичных в порядке убывания:"
   ]
  },
  {
   "cell_type": "code",
   "execution_count": 34,
   "metadata": {},
   "outputs": [],
   "source": [
    "def count_mean_toxicity(collection):\n",
    "    \n",
    "    mean_tox = collection.aggregate([{'$group': {'_id': '$source.author_id',\n",
    "                                                 'comment_count': {'$sum': 1},\n",
    "                                                 'mean_toxicity': {'$avg': '$toxicity'}}},\n",
    "                                     {'$match': {'comment_count': {'$gte': 5}}},\n",
    "                                     {'$project': {'_id': 0, 'author': '$_id', \n",
    "                                                   'mean_toxicity': {'$round': ['$mean_toxicity', 2]}}},\n",
    "                                     {'$sort': {'mean_toxicity': -1}},\n",
    "                                     {'$limit': 6}])\n",
    "    return mean_tox"
   ]
  },
  {
   "cell_type": "code",
   "execution_count": 35,
   "metadata": {},
   "outputs": [
    {
     "name": "stdout",
     "output_type": "stream",
     "text": [
      "{'author': 645959071, 'mean_toxicity': 0.45}\n",
      "{'author': 692715088, 'mean_toxicity': 0.4}\n",
      "{'author': 319349643, 'mean_toxicity': 0.4}\n",
      "{'author': 706564314, 'mean_toxicity': 0.4}\n",
      "{'author': 7882860, 'mean_toxicity': 0.4}\n",
      "{'author': 2065649, 'mean_toxicity': 0.29}\n"
     ]
    }
   ],
   "source": [
    "for mt in count_mean_toxicity(all_data):\n",
    "    print(mt)"
   ]
  },
  {
   "cell_type": "markdown",
   "metadata": {},
   "source": [
    "Вывести график распределения комментариев по времени публикации (единица - день):"
   ]
  },
  {
   "cell_type": "code",
   "execution_count": 36,
   "metadata": {},
   "outputs": [],
   "source": [
    "import matplotlib.pyplot as plt\n",
    "import matplotlib.dates\n",
    "import numpy as np\n",
    "\n",
    "def plot_time_distribution(collection): \n",
    "    time_dist = collection.aggregate([{'$group': {'_id': {'$dayOfYear': '$pub_time'},\n",
    "                                                  'n_comments': {'$sum': 1}}}])\n",
    "    x_values = []\n",
    "    y_values = []\n",
    "\n",
    "    for td in time_dist:\n",
    "        x_values.append(datetime.strptime('2022'+'-'+str(td['_id']), '%Y-%j').date())\n",
    "        y_values.append(td['n_comments'])\n",
    "        \n",
    "    fig, ax = plt.subplots(figsize=(20, 4))\n",
    "    dates = matplotlib.dates.date2num(x_values)\n",
    "    ax.plot_date(dates, y_values)\n",
    "    plt.xticks(rotation=40)\n",
    "    ax.xaxis.set_major_locator(matplotlib.dates.DayLocator())\n",
    "    plt.show()"
   ]
  },
  {
   "cell_type": "code",
   "execution_count": 37,
   "metadata": {},
   "outputs": [
    {
     "data": {
      "image/png": "[encoded data removed]",
      "text/plain": [
       "<Figure size 1440x288 with 1 Axes>"
      ]
     },
     "metadata": {
      "needs_background": "light"
     },
     "output_type": "display_data"
    }
   ],
   "source": [
    "plot_time_distribution(all_data)"
   ]
  },
  {
   "cell_type": "markdown",
   "metadata": {},
   "source": [
    "### Работа с текстом\n",
    "Создание индекса для поиска:"
   ]
  },
  {
   "cell_type": "code",
   "execution_count": 38,
   "metadata": {},
   "outputs": [
    {
     "data": {
      "text/plain": [
       "'text_text'"
      ]
     },
     "execution_count": 38,
     "metadata": {},
     "output_type": "execute_result"
    }
   ],
   "source": [
    "all_data.create_index([('text', 'text')])"
   ]
  },
  {
   "cell_type": "markdown",
   "metadata": {},
   "source": [
    "Строгий и нестрогий поиск заданных вхождений с указанным словом в поле текста комментария, сортировка от новых к старым либо по скору:"
   ]
  },
  {
   "cell_type": "code",
   "execution_count": 40,
   "metadata": {},
   "outputs": [],
   "source": [
    "def search_any(collection, query, top_n, sort='date'):\n",
    "    if sort == 'score':\n",
    "        result = collection.find({'$text': {'$search': query}},\n",
    "                                 {'score': {'$meta': 'textScore'}})\n",
    "        result.sort([('score', {'$meta': 'textScore'})]).limit(top_n)\n",
    "    else:\n",
    "        result = collection.find({'$text': {'$search': query}}).sort('date', pymongo.DESCENDING).limit(top_n)\n",
    "    return result\n",
    "\n",
    "def search_all(collection, query, top_n, sort='date'):\n",
    "    if sort == 'score':\n",
    "        result = collection.find({'$text': {'$search': f'\\\"{query}\\\"'}},\n",
    "                                 {'score': {'$meta': 'textScore'}})\n",
    "        result.sort([('score', {'$meta': 'textScore'})]).limit(top_n)\n",
    "    else:\n",
    "        result = collection.find({'$text': {'$search': f'\\\"{query}\\\"'}}).sort('date', pymongo.DESCENDING).limit(top_n)\n",
    "\n",
    "    return result"
   ]
  },
  {
   "cell_type": "code",
   "execution_count": 41,
   "metadata": {},
   "outputs": [
    {
     "name": "stdout",
     "output_type": "stream",
     "text": [
      "{'_id': ObjectId('624178fb3ecfd0488bd2b937'),\n",
      " 'corrected': '[id256116|Igor], дурак?',\n",
      " 'distortion': 0,\n",
      " 'likes': 0,\n",
      " 'pub_time': datetime.datetime(2022, 3, 28, 11, 22, 46),\n",
      " 'score': 0.6666666666666666,\n",
      " 'source': {'author_id': 22527227,\n",
      "            'comment_id': 17124055,\n",
      "            'group_id': -29534144,\n",
      "            'group_name': 'lentach',\n",
      "            'post_id': 17123821},\n",
      " 'text': '[id256116|Igor], дурак?',\n",
      " 'toxicity': 0}\n",
      "\n",
      "\n",
      "{'_id': ObjectId('624178fb3ecfd0488bd2b850'),\n",
      " 'corrected': '[id179392072|Valery], я дурак',\n",
      " 'distortion': 0,\n",
      " 'likes': 0,\n",
      " 'pub_time': datetime.datetime(2022, 3, 27, 22, 48, 36),\n",
      " 'score': 0.625,\n",
      " 'source': {'author_id': 537561782,\n",
      "            'comment_id': 5810682,\n",
      "            'group_id': -76982440,\n",
      "            'group_name': 'meduza',\n",
      "            'post_id': 5810651},\n",
      " 'text': '[id179392072|Valery], я дурак',\n",
      " 'toxicity': 0}\n",
      "\n",
      "\n",
      "{'_id': ObjectId('624178fb3ecfd0488bd2b831'),\n",
      " 'corrected': '[id370015658|Иван], вы тупой или прикидываетесь за копеечку?',\n",
      " 'distortion': 0,\n",
      " 'likes': 1,\n",
      " 'pub_time': datetime.datetime(2022, 3, 28, 8, 57, 5),\n",
      " 'score': 0.5625,\n",
      " 'source': {'author_id': 441063455,\n",
      "            'comment_id': 5810826,\n",
      "            'group_id': -76982440,\n",
      "            'group_name': 'meduza',\n",
      "            'post_id': 5810740},\n",
      " 'text': '[id370015658|Иван], вы тупой или прикидываетесь за копеечку?',\n",
      " 'toxicity': 0}\n",
      "\n",
      "\n",
      "{'_id': ObjectId('624178fb3ecfd0488bd2b84f'),\n",
      " 'corrected': 'А это уже навсегда. Кто не понял, тот дурак©',\n",
      " 'distortion': 0,\n",
      " 'likes': 0,\n",
      " 'pub_time': datetime.datetime(2022, 3, 27, 22, 14, 26),\n",
      " 'score': 0.5555555555555556,\n",
      " 'source': {'author_id': 179392072,\n",
      "            'comment_id': 5810658,\n",
      "            'group_id': -76982440,\n",
      "            'group_name': 'meduza',\n",
      "            'post_id': 5810651},\n",
      " 'text': 'А это уже навсегда. Кто не понял, тот дурак©',\n",
      " 'toxicity': 0}\n",
      "\n",
      "\n",
      "{'_id': ObjectId('624178fb3ecfd0488bd2b945'),\n",
      " 'corrected': '[id700768584|Евгений], ля ты тупой,нафига Смиту калечить '\n",
      "              'Рока?Чисто слэп, оставшееся время у Рока голос дрожал от '\n",
      "              'унижения 🤦',\n",
      " 'distortion': 0,\n",
      " 'likes': 7,\n",
      " 'pub_time': datetime.datetime(2022, 3, 28, 7, 39, 24),\n",
      " 'score': 0.525,\n",
      " 'source': {'author_id': 446241980,\n",
      "            'comment_id': 17122877,\n",
      "            'group_id': -29534144,\n",
      "            'group_name': 'lentach',\n",
      "            'post_id': 17122620},\n",
      " 'text': '[id700768584|Евгений], ля ты тупой,нафига Смиту калечить Рока?Чисто '\n",
      "         'слэп, оставшееся время у Рока голос дрожал от унижения 🤦',\n",
      " 'toxicity': 1}\n",
      "\n",
      "\n"
     ]
    }
   ],
   "source": [
    "for r in search_any(all_data, 'дурак тупой', 5, 'score'):\n",
    "    pprint(r)\n",
    "    print('\\n')"
   ]
  },
  {
   "cell_type": "code",
   "execution_count": 42,
   "metadata": {},
   "outputs": [],
   "source": [
    "for r in search_all(all_data, 'дурак тупой', 5, 'date'):\n",
    "    pprint(r)\n",
    "    print('\\n')"
   ]
  },
  {
   "cell_type": "code",
   "execution_count": 43,
   "metadata": {},
   "outputs": [],
   "source": [
    "for r in search_all(all_data, 'ты дурак', 5, 'date'):\n",
    "    pprint(r)\n",
    "    print('\\n')"
   ]
  },
  {
   "cell_type": "markdown",
   "metadata": {},
   "source": [
    "Модифицированный запрос из прошлого пункта: встречаемость слова или слов из запроса в токсичных и нетоксичных текстах"
   ]
  },
  {
   "cell_type": "code",
   "execution_count": 44,
   "metadata": {},
   "outputs": [],
   "source": [
    "def search_by_toxicity(collection, query, find='any'):\n",
    "    if find == 'all':\n",
    "        query = f'\\\"{query}\\\"'\n",
    "\n",
    "    toxic_count = collection.aggregate([{'$match': {'$text': {'$search': query}}},\n",
    "                                        {'$group': {'_id': '$toxicity',\n",
    "                                                    'count': {'$sum': 1}}},\n",
    "                                        {'$project': {'_id': 0, 'is_toxic': '$_id',\n",
    "                                                      'count': 1, 'sum': 1}}])\n",
    "    return toxic_count"
   ]
  },
  {
   "cell_type": "code",
   "execution_count": 45,
   "metadata": {},
   "outputs": [
    {
     "name": "stdout",
     "output_type": "stream",
     "text": [
      "{'count': 11, 'is_toxic': 1}\n",
      "{'count': 45, 'is_toxic': 0}\n"
     ]
    }
   ],
   "source": [
    "for res in search_by_toxicity(all_data, 'ты дурак', find='any'):\n",
    "    pprint(res)"
   ]
  },
  {
   "cell_type": "code",
   "execution_count": null,
   "metadata": {},
   "outputs": [],
   "source": []
  },
  {
   "cell_type": "code",
   "execution_count": null,
   "metadata": {},
   "outputs": [],
   "source": []
  }
 ],
 "metadata": {
  "kernelspec": {
   "display_name": "Python 3 (ipykernel)",
   "language": "python",
   "name": "python3"
  },
  "language_info": {
   "codemirror_mode": {
    "name": "ipython",
    "version": 3
   },
   "file_extension": ".py",
   "mimetype": "text/x-python",
   "name": "python",
   "nbconvert_exporter": "python",
   "pygments_lexer": "ipython3",
   "version": "3.7.3"
  }
 },
 "nbformat": 4,
 "nbformat_minor": 2
}
